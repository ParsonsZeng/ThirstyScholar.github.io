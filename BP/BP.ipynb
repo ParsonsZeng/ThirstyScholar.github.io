{
 "cells": [
  {
   "cell_type": "code",
   "execution_count": 1,
   "metadata": {
    "collapsed": true
   },
   "outputs": [],
   "source": [
    "import numpy as np"
   ]
  },
  {
   "cell_type": "code",
   "execution_count": 2,
   "metadata": {
    "collapsed": false
   },
   "outputs": [
    {
     "name": "stdout",
     "output_type": "stream",
     "text": [
      "[[-0.62545022 -0.67073086 -2.56050732 -0.53648352]\n",
      " [ 0.09981772  0.70368708  0.1334016  -0.74292812]\n",
      " [ 0.96670241 -0.98243246  0.99848907 -0.80788105]]\n",
      "[[ 0.  0.  0.  0.]]\n",
      "[[-1.14306854 -1.10152559]\n",
      " [-0.60629853 -1.28553044]\n",
      " [ 0.34331156  1.47603916]\n",
      " [ 0.27811724  1.88962966]]\n",
      "[[ 0.  0.]]\n"
     ]
    }
   ],
   "source": [
    "N = 2  # # of training examples in a mini-batch\n",
    "D = 3  # data dimension\n",
    "K = 2  # output dimension\n",
    "\n",
    "# Model parameters\n",
    "W1 = np.random.randn(D, 4)\n",
    "b1 = np.zeros((1, 4))\n",
    "W2 = np.random.randn(4, K)\n",
    "b2 = np.zeros((1, K))\n",
    "\n",
    "print(W1)\n",
    "print(b1)\n",
    "print(W2)\n",
    "print(b2)"
   ]
  },
  {
   "cell_type": "code",
   "execution_count": 3,
   "metadata": {
    "collapsed": false
   },
   "outputs": [
    {
     "name": "stdout",
     "output_type": "stream",
     "text": [
      "[[-0.15810992 -2.062161   -0.93076613]\n",
      " [-1.95015237  1.06429298 -1.15135076]]\n",
      "[[-2.04671856  1.00793003]\n",
      " [ 0.1286509  -1.90473463]]\n"
     ]
    }
   ],
   "source": [
    "X = np.random.randn(N, D)  # data matrix\n",
    "y = np.random.randn(2, K)  # target matrix\n",
    "\n",
    "print(X)\n",
    "print(y)"
   ]
  },
  {
   "cell_type": "code",
   "execution_count": 4,
   "metadata": {
    "collapsed": false
   },
   "outputs": [
    {
     "name": "stdout",
     "output_type": "stream",
     "text": [
      "[[-1.00672418 -0.43065199 -0.79961377  2.36880907]\n",
      " [ 0.21294497  3.18808096  3.98574666  1.1856859 ]]\n",
      "[[ 0.          0.          0.          2.36880907]\n",
      " [ 0.21294497  3.18808096  3.98574666  1.1856859 ]]\n",
      "[[ 0.65880664  4.47617189]\n",
      " [-0.47822689  3.79068596]]\n",
      "5.63115493033\n"
     ]
    }
   ],
   "source": [
    "# Hidden layer\n",
    "Y1 = X.dot(W1) + b1\n",
    "H1 = np.maximum(Y1, 0)\n",
    "\n",
    "# Output layer\n",
    "y_pred = H1.dot(W2) + b2\n",
    "\n",
    "# Loss function\n",
    "L = 2 * np.mean(y_pred - y)\n",
    "\n",
    "print(Y1)\n",
    "print(H1)\n",
    "print(y_pred)\n",
    "print(L)"
   ]
  },
  {
   "cell_type": "code",
   "execution_count": 5,
   "metadata": {
    "collapsed": false
   },
   "outputs": [
    {
     "name": "stdout",
     "output_type": "stream",
     "text": [
      "[[  5.4110504    6.93648373]\n",
      " [ -1.21375558  11.39084117]]\n",
      "[[-13.82591582 -12.19777289  12.0961978   14.61229182]\n",
      " [-11.15989728 -13.90737485  16.39663135  21.18690503]]\n",
      "[[ -0.25846314   2.4256223 ]\n",
      " [ -3.86955105  36.31492391]\n",
      " [ -4.83772224  45.40100718]\n",
      " [ 11.3786124   29.93716534]]\n",
      "[  4.19729482  18.3273249 ]\n",
      "[[ -0.          -0.           0.          14.61229182]\n",
      " [-11.15989728 -13.90737485  16.39663135  21.18690503]]\n",
      "[[ 21.76350012  27.1215     -31.97592946 -43.62804136]\n",
      " [-11.8774003  -14.80152138  17.45081959  -7.58382404]\n",
      " [ 12.84895626  16.01226666 -18.87827404 -37.99418556]]\n",
      "[-11.15989728 -13.90737485  16.39663135  35.79919684]\n"
     ]
    }
   ],
   "source": [
    "# We add a \"d\" in front of each variable to denote the gradient\n",
    "# We will backprop in the following order: \n",
    "#    dy_pred -> dH1 & dW2 & db2 -> dY1 -> dW1 & db1\n",
    "\n",
    "# Output Layer\n",
    "dy_pred = 2*(y_pred - y) \n",
    "dH1 = dy_pred.dot(W2.T) \n",
    "dW2 = H1.T.dot(dy_pred)\n",
    "db2 = dy_pred.sum(axis=0)\n",
    "\n",
    "# Hidden Layer\n",
    "dY1 = dH1 * (H1 > 0)\n",
    "dW1 = X.T.dot(dY1); \n",
    "db1 = dY1.sum(axis=0)\n",
    "\n",
    "print(dy_pred)\n",
    "print(dH1)\n",
    "print(dW2)\n",
    "print(db2)\n",
    "print(dY1)\n",
    "print(dW1)\n",
    "print(db1)"
   ]
  },
  {
   "cell_type": "code",
   "execution_count": 6,
   "metadata": {
    "collapsed": false
   },
   "outputs": [
    {
     "name": "stdout",
     "output_type": "stream",
     "text": [
      "[[-0.62547198 -0.67075798 -2.56047535 -0.53643989]\n",
      " [ 0.0998296   0.70370188  0.13338415 -0.74292053]\n",
      " [ 0.96668956 -0.98244848  0.99850794 -0.80784306]]\n",
      "[[  1.11598973e-05   1.39073748e-05  -1.63966313e-05  -3.57991968e-05]]\n",
      "[[-1.14306828 -1.10152802]\n",
      " [-0.60629466 -1.28556676]\n",
      " [ 0.3433164   1.47599376]\n",
      " [ 0.27810586  1.88959973]]\n",
      "[[ -4.19729482e-06  -1.83273249e-05]]\n"
     ]
    }
   ],
   "source": [
    "# Parameter update\n",
    "lr = 1e-6  # learning rate\n",
    "\n",
    "W1 -= lr * dW1\n",
    "b1 -= lr * db1\n",
    "W2 -= lr * dW2\n",
    "b2 -= lr * db2\n",
    "\n",
    "print(W1)\n",
    "print(b1)\n",
    "print(W2)\n",
    "print(b2)"
   ]
  }
 ],
 "metadata": {
  "kernelspec": {
   "display_name": "Python 3",
   "language": "python",
   "name": "python3"
  },
  "language_info": {
   "codemirror_mode": {
    "name": "ipython",
    "version": 3
   },
   "file_extension": ".py",
   "mimetype": "text/x-python",
   "name": "python",
   "nbconvert_exporter": "python",
   "pygments_lexer": "ipython3",
   "version": "3.6.0"
  }
 },
 "nbformat": 4,
 "nbformat_minor": 2
}
