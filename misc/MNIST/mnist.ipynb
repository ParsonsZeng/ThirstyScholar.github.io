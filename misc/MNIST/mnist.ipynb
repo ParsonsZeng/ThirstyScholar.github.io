{
 "cells": [
  {
   "cell_type": "markdown",
   "metadata": {},
   "source": [
    "## Libraries and Hyper-parameters"
   ]
  },
  {
   "cell_type": "code",
   "execution_count": 1,
   "metadata": {
    "collapsed": true
   },
   "outputs": [],
   "source": [
    "import matplotlib.pyplot as plt\n",
    "\n",
    "import torch\n",
    "import torch.nn as nn\n",
    "import torch.nn.functional as F\n",
    "from torch.autograd import Variable\n",
    "\n",
    "import torchvision.datasets as dsets\n",
    "import torchvision.transforms as transforms\n",
    "\n",
    "\n",
    "EPOCH = 1      \n",
    "BATCH_SIZE = 32\n",
    "TIME_STEP = 28           # input time step (image height)\n",
    "INPUT_SIZE = 28          # input size (image width)\n",
    "LR = 1e-2                \n",
    "DOWNLOAD_MNIST = False   # if download the data"
   ]
  },
  {
   "cell_type": "markdown",
   "metadata": {},
   "source": [
    "## Loading Dataset and Data Preprocessing"
   ]
  },
  {
   "cell_type": "code",
   "execution_count": 2,
   "metadata": {
    "collapsed": false
   },
   "outputs": [
    {
     "data": {
      "image/png": "[encoded data removed]",
      "text/plain": [
       "<matplotlib.figure.Figure at 0x115cef710>"
      ]
     },
     "metadata": {},
     "output_type": "display_data"
    }
   ],
   "source": [
    "\"\"\"\n",
    "*Mean substraction and normalization as data preprocessing:\n",
    "   Note that the transforms.ToTensor() scale the data into range (0, 1), so the resulting mean and std dev will be .5\n",
    "   and although MNIST images are grey scale, we still need to provide means and stddevs for 3 channels (RGB).\n",
    "\"\"\"\n",
    "data_prepro = transforms.Compose([\n",
    "    transforms.ToTensor(),\n",
    "    transforms.Normalize((.5, .5, .5), (.5, .5, .5))\n",
    "])\n",
    "\n",
    "\n",
    "# Load the MNIST dataset: training and test data\n",
    "train_data = dsets.MNIST(\n",
    "    root='./mnist/',\n",
    "    train=True,\n",
    "    transform=data_prepro,\n",
    "    download=DOWNLOAD_MNIST\n",
    ")\n",
    "\n",
    "test_data = dsets.MNIST(root='./mnist/', \n",
    "                        train=False,\n",
    "                        transform=data_prepro)\n",
    "\n",
    "# Create data loader from the datasets\n",
    "train_loader = torch.utils.data.DataLoader(dataset=train_data, \n",
    "                                           batch_size=BATCH_SIZE, \n",
    "                                           shuffle=True)\n",
    "\n",
    "\"\"\"\n",
    "We create two data loader for test data:\n",
    "  1. We will examine the test accuracy as training goes along with 2,500 test data using test_loader\n",
    "  2. Examine the test accuracy on the entire test data using test_loader2\n",
    "\"\"\"\n",
    "test_loader = torch.utils.data.DataLoader(dataset=test_data,\n",
    "                                          batch_size=2500, \n",
    "                                          shuffle=True)\n",
    "\n",
    "test_loader2 = torch.utils.data.DataLoader(dataset=test_data, \n",
    "                                           batch_size=len(test_data))\n",
    "\n",
    "\n",
    "# Show one example\n",
    "plt.imshow(train_data.train_data[0].numpy(), cmap='gray')\n",
    "plt.title('Training example from MNIST')\n",
    "plt.show()"
   ]
  },
  {
   "cell_type": "markdown",
   "metadata": {},
   "source": [
    "## Network, Loss and Optimizer"
   ]
  },
  {
   "cell_type": "markdown",
   "metadata": {},
   "source": [
    "### Feedforward"
   ]
  },
  {
   "cell_type": "code",
   "execution_count": 3,
   "metadata": {
    "collapsed": false
   },
   "outputs": [
    {
     "name": "stdout",
     "output_type": "stream",
     "text": [
      "Sequential (\n",
      "  (0): Linear (784 -> 128)\n",
      "  (1): ReLU ()\n",
      "  (2): Linear (128 -> 10)\n",
      ")\n"
     ]
    }
   ],
   "source": [
    "fnn = nn.Sequential(\n",
    "    nn.Linear(784, 128),\n",
    "    nn.ReLU(),\n",
    "    nn.Linear(128, 10)\n",
    ")\n",
    "print(fnn)\n",
    "\n",
    "optim_fnn = torch.optim.Adam(fnn.parameters(), lr=LR)"
   ]
  },
  {
   "cell_type": "markdown",
   "metadata": {},
   "source": [
    "### LSTM"
   ]
  },
  {
   "cell_type": "code",
   "execution_count": 4,
   "metadata": {
    "collapsed": true
   },
   "outputs": [],
   "source": [
    "class LSTM(nn.Module):\n",
    "    \n",
    "    def __init__(self):\n",
    "        super(LSTM, self).__init__()\n",
    "\n",
    "        self.lstm = nn.LSTM(\n",
    "            input_size=INPUT_SIZE,\n",
    "            hidden_size=128,\n",
    "            num_layers=1,\n",
    "            batch_first=True,\n",
    "        )\n",
    "\n",
    "        self.out = nn.Linear(128, 10)\n",
    "\n",
    "        \n",
    "    def forward(self, x):\n",
    "        \n",
    "        \"\"\"\n",
    "        1. \"None\" indicates zero initial hidden and cell state\n",
    "        2. Discard the final hidden and cell state, don't need them for the output.\n",
    "        3. Use the output of the LSTM layer at the *last* time-step.\n",
    "        \"\"\"\n",
    "        output, (hidden, cell) = self.lstm(x, None)\n",
    "        \n",
    "        out = self.out(output[:, -1, :])\n",
    "        \n",
    "        return out"
   ]
  },
  {
   "cell_type": "code",
   "execution_count": 5,
   "metadata": {
    "collapsed": false
   },
   "outputs": [
    {
     "name": "stdout",
     "output_type": "stream",
     "text": [
      "LSTM (\n",
      "  (lstm): LSTM(28, 128, batch_first=True)\n",
      "  (out): Linear (128 -> 10)\n",
      ")\n"
     ]
    }
   ],
   "source": [
    "rnn = LSTM(); print(rnn)\n",
    "optim_rnn = torch.optim.Adam(rnn.parameters(), lr=LR)   "
   ]
  },
  {
   "cell_type": "markdown",
   "metadata": {},
   "source": [
    "### CNN"
   ]
  },
  {
   "cell_type": "code",
   "execution_count": 6,
   "metadata": {
    "collapsed": true
   },
   "outputs": [],
   "source": [
    "class CNN(nn.Module):\n",
    "    def __init__(self):\n",
    "        super(CNN, self).__init__()\n",
    "        self.conv1 = nn.Sequential(         # input shape (1, 28, 28)\n",
    "            nn.Conv2d(\n",
    "                in_channels=1,              \n",
    "                out_channels=16,            \n",
    "                kernel_size=5,              \n",
    "                stride=1,                   \n",
    "                padding=2,                  \n",
    "            ),                              # output shape (16, 28, 28)\n",
    "            nn.ReLU(),                      # activation\n",
    "            nn.MaxPool2d(kernel_size=2),    # choose max value in 2x2 area, output shape (16, 14, 14)\n",
    "        )\n",
    "        self.conv2 = nn.Sequential(         \n",
    "            nn.Conv2d(16, 32, 5, 1, 2),     # output shape (32, 14, 14)\n",
    "            nn.ReLU(),                      \n",
    "            nn.MaxPool2d(2),                # output shape (32, 7, 7)\n",
    "        )\n",
    "        self.out = nn.Linear(32 * 7 * 7, 10)\n",
    "\n",
    "    def forward(self, x):\n",
    "        x = self.conv1(x)\n",
    "        x = self.conv2(x)\n",
    "        x = x.view(x.size(0), -1)           # flatten the output of conv2 to (batch_size, 32 * 7 * 7)\n",
    "        output = self.out(x)\n",
    "        \n",
    "        return output"
   ]
  },
  {
   "cell_type": "code",
   "execution_count": 7,
   "metadata": {
    "collapsed": false
   },
   "outputs": [
    {
     "name": "stdout",
     "output_type": "stream",
     "text": [
      "CNN (\n",
      "  (conv1): Sequential (\n",
      "    (0): Conv2d(1, 16, kernel_size=(5, 5), stride=(1, 1), padding=(2, 2))\n",
      "    (1): ReLU ()\n",
      "    (2): MaxPool2d (size=(2, 2), stride=(2, 2), dilation=(1, 1))\n",
      "  )\n",
      "  (conv2): Sequential (\n",
      "    (0): Conv2d(16, 32, kernel_size=(5, 5), stride=(1, 1), padding=(2, 2))\n",
      "    (1): ReLU ()\n",
      "    (2): MaxPool2d (size=(2, 2), stride=(2, 2), dilation=(1, 1))\n",
      "  )\n",
      "  (out): Linear (1568 -> 10)\n",
      ")\n"
     ]
    }
   ],
   "source": [
    "cnn = CNN(); print(cnn)\n",
    "optim_cnn = torch.optim.Adam(cnn.parameters(), lr=LR)"
   ]
  },
  {
   "cell_type": "code",
   "execution_count": 8,
   "metadata": {
    "collapsed": true
   },
   "outputs": [],
   "source": [
    "# Share the same loss function across 3 networks\n",
    "loss_func = nn.CrossEntropyLoss()"
   ]
  },
  {
   "cell_type": "markdown",
   "metadata": {},
   "source": [
    "## Training"
   ]
  },
  {
   "cell_type": "code",
   "execution_count": 9,
   "metadata": {
    "collapsed": false
   },
   "outputs": [
    {
     "name": "stdout",
     "output_type": "stream",
     "text": [
      "Epoch 0 Mini-batch 0  \n",
      "FNN/RNN/CNN: 0.10/0.10/0.10\n",
      "\n",
      "Epoch 0 Mini-batch 50  \n",
      "FNN/RNN/CNN: 0.85/0.22/0.92\n",
      "\n",
      "Epoch 0 Mini-batch 100  \n",
      "FNN/RNN/CNN: 0.81/0.49/0.94\n",
      "\n",
      "Epoch 0 Mini-batch 150  \n",
      "FNN/RNN/CNN: 0.87/0.66/0.96\n",
      "\n",
      "Epoch 0 Mini-batch 200  \n",
      "FNN/RNN/CNN: 0.80/0.74/0.96\n",
      "\n",
      "Epoch 0 Mini-batch 250  \n",
      "FNN/RNN/CNN: 0.90/0.78/0.96\n",
      "\n",
      "Epoch 0 Mini-batch 300  \n",
      "FNN/RNN/CNN: 0.88/0.83/0.96\n",
      "\n",
      "Epoch 0 Mini-batch 350  \n",
      "FNN/RNN/CNN: 0.89/0.85/0.94\n",
      "\n"
     ]
    }
   ],
   "source": [
    "for epoch in range(EPOCH):\n",
    "\n",
    "    for step, (X, y) in enumerate(train_loader):\n",
    "        \n",
    "        \"\"\"\n",
    "        Here we train the 3 types of networks simultaneously\n",
    "        \"\"\"\n",
    "        \n",
    "        # FNN forward/backward pass\n",
    "        X1 = Variable(X.view(-1, 784))\n",
    "        y1 = Variable(y)\n",
    "        _y1 = fnn(X1)\n",
    "        \n",
    "        loss_fnn = loss_func(_y1, y1)\n",
    "        optim_fnn.zero_grad()                   \n",
    "        loss_fnn.backward()                         \n",
    "        optim_fnn.step()\n",
    "        \n",
    "        # RNN forward/backward pass\n",
    "        X2 = Variable(X.view(-1, 28, 28))  # squeeze the color channel, resulting shape (batch, time-step, input-size)\n",
    "        y2 = Variable(y)                       \n",
    "        _y2 = rnn(X2)\n",
    "        \n",
    "        loss_rnn = loss_func(_y2, y2)\n",
    "        optim_rnn.zero_grad()                   \n",
    "        loss_rnn.backward()                         \n",
    "        optim_rnn.step()                        \n",
    "        \n",
    "        # CNN forward/backward pass\n",
    "        X3 = Variable(X)\n",
    "        y3 = Variable(y)\n",
    "        _y3 = cnn(X3)\n",
    "        \n",
    "        loss_cnn = loss_func(_y3, y3)\n",
    "        optim_cnn.zero_grad()                   \n",
    "        loss_cnn.backward()                         \n",
    "        optim_cnn.step()\n",
    "        \n",
    "        \n",
    "        # Evaluate on 2,500 test data points to see progress\n",
    "        if step % 50 == 0:\n",
    "            \n",
    "            for X, y in test_loader:\n",
    "                \n",
    "                \"\"\"\n",
    "                Test the 3 networks simultaneously\n",
    "                \"\"\"\n",
    "                \n",
    "                # Test FNN\n",
    "                X1 = Variable(X.view(-1, 784))\n",
    "                y1 = Variable(y)\n",
    "                _y1 = fnn(X1)\n",
    "                \n",
    "                # Test RNN\n",
    "                X2 = Variable(X.view(-1, 28, 28))\n",
    "                y2 = Variable(y)                       \n",
    "                _y2 = rnn(X2)\n",
    "                \n",
    "                # Test CNN\n",
    "                X3 = Variable(X)\n",
    "                y3 = Variable(y)\n",
    "                _y3 = cnn(X3)\n",
    "                \n",
    "                # Calculate accuracy\n",
    "                y1 = y1.data.numpy()\n",
    "                y2 = y2.data.numpy()\n",
    "                y3 = y3.data.numpy()\n",
    "                \n",
    "                # Extract predicted class\n",
    "                _y1 = torch.max(_y1, 1)[1].data.numpy().squeeze()\n",
    "                _y2 = torch.max(_y2, 1)[1].data.numpy().squeeze()\n",
    "                _y3 = torch.max(_y3, 1)[1].data.numpy().squeeze()\n",
    "                \n",
    "                # Compute accuracies\n",
    "                accu_fnn = (_y1 == y1).mean()\n",
    "                accu_rnn = (_y2 == y2).mean()\n",
    "                accu_cnn = (_y3 == y3).mean()\n",
    "                \n",
    "                break  # examine the test accuracy on 2,500 test data\n",
    "            \n",
    "            # Print epoch, mini-batch and test accuracies\n",
    "            print('Epoch {0} Mini-batch {1}  \\nFNN/RNN/CNN: {2:.2f}/{3:.2f}/{4:.2f}\\n'.\n",
    "                  format(epoch, step, accu_fnn, accu_rnn, accu_cnn))\n",
    "\n",
    "            # If the accuracy is good enough, quit training\n",
    "            if min(accu_fnn, accu_rnn, accu_cnn) > 0.85: break"
   ]
  },
  {
   "cell_type": "markdown",
   "metadata": {},
   "source": [
    "## Evaluation"
   ]
  },
  {
   "cell_type": "code",
   "execution_count": 10,
   "metadata": {
    "collapsed": false
   },
   "outputs": [
    {
     "name": "stdout",
     "output_type": "stream",
     "text": [
      "FNN/RNN/CNN: 0.89/0.86/0.95\n"
     ]
    }
   ],
   "source": [
    "for X, y in test_loader2:\n",
    "                \n",
    "    \"\"\"\n",
    "    Test the 3 networks simultaneously\n",
    "    \"\"\"\n",
    "\n",
    "    # Test FNN\n",
    "    X1 = Variable(X.view(-1, 784))\n",
    "    y1 = Variable(y)\n",
    "    _y1 = fnn(X1)\n",
    "\n",
    "    # Test RNN\n",
    "    X2 = Variable(X.view(-1, 28, 28))\n",
    "    y2 = Variable(y)                       \n",
    "    _y2 = rnn(X2)\n",
    "    \n",
    "    # Test CNN\n",
    "    X3 = Variable(X)\n",
    "    y3 = Variable(y)\n",
    "    _y3 = cnn(X3)\n",
    "\n",
    "    # Calculate accuracy\n",
    "    y1 = y1.data.numpy()\n",
    "    y2 = y2.data.numpy()\n",
    "    y3 = y3.data.numpy()\n",
    "\n",
    "    # Extract predicted label\n",
    "    _y1 = torch.max(_y1, 1)[1].data.numpy().squeeze()\n",
    "    _y2 = torch.max(_y2, 1)[1].data.numpy().squeeze()\n",
    "    _y3 = torch.max(_y3, 1)[1].data.numpy().squeeze()\n",
    "\n",
    "    # Compute accuracies\n",
    "    accu_fnn = (_y1 == y1).mean()\n",
    "    accu_rnn = (_y2 == y2).mean()\n",
    "    accu_cnn = (_y3 == y3).mean()\n",
    "\n",
    "print('FNN/RNN/CNN: {0:.2f}/{1:.2f}/{2:.2f}'.format(accu_fnn, accu_rnn, accu_cnn))"
   ]
  },
  {
   "cell_type": "code",
   "execution_count": null,
   "metadata": {
    "collapsed": true
   },
   "outputs": [],
   "source": []
  }
 ],
 "metadata": {
  "kernelspec": {
   "display_name": "Python 3",
   "language": "python",
   "name": "python3"
  },
  "language_info": {
   "codemirror_mode": {
    "name": "ipython",
    "version": 3
   },
   "file_extension": ".py",
   "mimetype": "text/x-python",
   "name": "python",
   "nbconvert_exporter": "python",
   "pygments_lexer": "ipython3",
   "version": "3.6.0"
  }
 },
 "nbformat": 4,
 "nbformat_minor": 2
}
